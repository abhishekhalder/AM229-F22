{
  "metadata": {
    "language_info": {
      "codemirror_mode": {
        "name": "python",
        "version": 3
      },
      "file_extension": ".py",
      "mimetype": "text/x-python",
      "name": "python",
      "nbconvert_exporter": "python",
      "pygments_lexer": "ipython3",
      "version": "3.8"
    },
    "kernelspec": {
      "name": "python",
      "display_name": "Python (Pyodide)",
      "language": "python"
    }
  },
  "nbformat_minor": 4,
  "nbformat": 4,
  "cells": [
    {
      "cell_type": "markdown",
      "source": "# Problem 1. [50 points] Affine and Convex Sets, Cones, and Hulls\n\n## (a) [10 + (1+4) = 15 points] Copositive matrices \n\n(i) In Lec. 4, p. 3, we mentioned without proof that the set of copositive matrices\n$$\\mathbb{S}_{\\rm{copo}}^{n} := \\{X\\in\\mathbb{S}^{n} \\mid x^{\\top}X x \\geq 0 \\;\\text{for all}\\;x\\in\\mathbb{R}^{n}_{+}\\}$$\nis convex. Please note there was a typo (now corrected in notes) in the bottom of that page: the correct set inclusion is: $\\mathbb{S}^{n}_{+} \\subset \\mathbb{S}^{n}_{\\rm{copo}} \\subset \\mathbb{S}^{n}$.\n\n**Prove that** $\\mathbb{S}_{\\rm{copo}}^{n}$ is a **convex set**.\n\n(ii) Is $\\mathbb{S}_{\\rm{copo}}^{n}$ also a **cone**? **Why/why not?**\n\n## (b) [(1+9) + (1+4) = 15 points] Permutation matrices\n\n(i) A permutation matrix of size $n\\times n$ is a binary matrix such that it has exactly single 1 in each row and each column, the rest of the entries are zero. For example, there are only two permuation matrices of size $2\\times 2$: \n$$\\begin{pmatrix}1 & 0\\\\\n0 & 1\\end{pmatrix}, \\quad \\begin{pmatrix}0 & 1\\\\\n1 & 0\\end{pmatrix}.$$\nIn general, there are $n!$ permutation matrices of size $n\\times n$. For fixed $n$, is the set of all $n\\times n$ permutation matrices a **convex set**? **Why/why not?**\n\n(ii) For fixed $n$, is the set of all $n\\times n$ permutation matrices a **cone**? **Why/why not?**\n\n## (c) [(1+4) + (1+9) + (1+4) = 20 points] Probability simplex\n\n(i) Consider the probability simplex $\\Delta^{n-1}\\subset\\mathbb{R}^{n}$ introduced in Lec. 2, p. 5-6. What is the **affine hull** ${\\rm{aff}}(\\Delta^{n-1})$? **Explain briefly**.\n\n(ii) Is $\\Delta^{n-1}$ a **convex set**? **Why/why not?**\n\n(iii) Is $\\Delta^{n-1}$ a **cone**? **Why/why not?**",
      "metadata": {}
    },
    {
      "cell_type": "markdown",
      "source": "# Problem 2. [15 + 15 + 20 = 50 points] Derivative of Scalar with respect to Matrix\n\nBefore attempting the following, please review Lec. 4, p. 12-17. **Compute $\\dfrac{\\partial f}{\\partial X}$ for**\n\n(a) $f(X) = {\\rm{tr}}(X^2)$, where $X\\in\\mathbb{R}^{n\\times n}$,\n\n(b) $f(X) = {\\rm{tr}}(X^{\\top}X)$, where $X\\in\\mathbb{R}^{m\\times n}$,\n\n(c) $f(X) = -\\log\\det X$, where $X\\in\\mathbb{S}^{n}_{++}$.\n\n(Hint: use $\\det(I + hY) = 1 + h\\: {\\rm{tr}}(Y) + O(h^2)$, and that $\\log(1+y)= y + O(y^2)$ for $|y|$ smaller than $1$)",
      "metadata": {}
    }
  ]
}