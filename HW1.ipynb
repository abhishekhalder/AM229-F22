{
  "metadata": {
    "language_info": {
      "codemirror_mode": {
        "name": "python",
        "version": 3
      },
      "file_extension": ".py",
      "mimetype": "text/x-python",
      "name": "python",
      "nbconvert_exporter": "python",
      "pygments_lexer": "ipython3",
      "version": "3.8"
    },
    "kernelspec": {
      "name": "python",
      "display_name": "Python (Pyodide)",
      "language": "python"
    }
  },
  "nbformat_minor": 4,
  "nbformat": 4,
  "cells": [
    {
      "cell_type": "markdown",
      "source": "# Problem 1. [50 points] Positive Semi-definite Matrices",
      "metadata": {}
    },
    {
      "cell_type": "markdown",
      "source": "## (a) [10 + 10 = 20 points] Matricial Outer Product\n\n(i) Consider an arbitrary $Y\\in\\mathbb{R}^{m\\times n}\\setminus\\{0\\}$. **Prove that** $YY^{\\top}\\in\\mathbb{S}^{m}_{+}$.\n\n(ii) Consider an arbitrary $X\\in\\mathbb{S}^{m}_{+}$. **Prove that** we can always decompose $X$ as $X=YY^{\\top}$ for some $Y\\in\\mathbb{R}^{m\\times m}$. ",
      "metadata": {}
    },
    {
      "cell_type": "markdown",
      "source": "## (b) [(10 + 5) + 5 + 10 = 30 points] Set of $3\\times 3$ Correlation Matrices\n\n(i) In statistics, any $3\\times 3$ correlation matrix is of the form $\\begin{pmatrix}\n1 & x & y\\\\\nx & 1 & z\\\\\ny & z & 1\n\\end{pmatrix}$ where the scalars $x,y,z$ are such that the matrix is positive semi-definite. So we can visualize the set of all $3\\times 3$ correlation matrices as\n$$\\mathcal{X}:=\\bigg\\{(x,y,z)\\in\\mathbb{R}^{3}\\mid \\begin{pmatrix}\n1 & x & y\\\\\nx & 1 & z\\\\\ny & z & 1\n\\end{pmatrix} \\in \\mathbb{S}^{3}_{+}\\bigg\\} \\subset \\mathbb{R}^{3}.$$\nUse your favorite plotting tool (MATLAB/Python/Julia) to **make a 3D plot of $\\mathcal{X}$** in the domain $[-1,1]^{3}$. **Briefly explain** the math behind your code.\n\n(ii) **Mathematically argue why** $\\mathcal{X}\\subseteq [-1,1]^{3}$. \"Mathematically\" means argue with some inequalities etc. Don't just say \"Duh! Look at my plot.\" :-)\n\n(iii) **Prove that** $\\mathcal{X} = \\{(\\cos\\alpha,\\cos\\beta,\\cos\\gamma)\\in\\mathbb{R}^{3}\\mid (\\alpha,\\beta,\\gamma)\\:\\text{are the pairwise angles between three unit vectors in } \\mathbb{R}^{3}\\}$.\n\n(Hint: Use what you proved in part (a)(ii).)",
      "metadata": {}
    },
    {
      "cell_type": "markdown",
      "source": "# Problem 2. [5 x 10 = 50 points] True/False: Norms\n\nFor each of the following, **state True/False**. If your answer is \"True\", then give a **short proof**. If your answer is \"False\", then give a **simple counter-example**.\n\n(a) For all $x\\in\\mathbb{R}^{n}$, $Q\\in {\\rm{O}}(n)$, we have $\\|Qx\\|_{2} = \\|x\\|_{2}$.\n\n(b) For all $x\\in\\mathbb{R}^{n}$, we have $\\|x\\|_{1} \\geq \\|x\\|_{\\infty}$.\n\n(c) For all $x\\in\\mathbb{R}^{n}$, we have $\\|x\\|_2 = \\sqrt{{\\rm{tr}}(xx^{\\top})}$.\n\n(d) Let $0<p,q\\leq \\infty$ such that $p\\neq q$. The identity $\\|x\\|_p = \\|x\\|_{q}$ holds for finitely many vectors $x\\in\\mathbb{R}^{n}$.\n\n(e) Let $1\\leq p < q\\leq \\infty$. The identity $\\|x\\|_p = n^{\\frac{1}{p}-\\frac{1}{q}}\\|x\\|_{q}$ holds for finitely many vectors $x\\in\\mathbb{R}^{n}$.\n\n(f) Let $\\sigma$ denote the vector comprising of the singular values of $X\\in\\mathbb{R}^{m\\times n}$. Then $\\|\\sigma\\|_{\\infty} = \\|X\\|_{2}$.\n\n(g) Let $\\sigma$ denote the vector comprising of the singular values of $X\\in\\mathbb{R}^{m\\times n}$. Then $\\|\\sigma\\|_{0} = {\\rm{rank}}(X)$.\n\n(h) For all $X\\in\\mathbb{R}^{m\\times n}$, we have $\\|X\\|_{1} \\geq \\|X\\|_{\\infty}$.\n\n(i) For all $X\\in\\mathbb{R}^{n\\times n}$, $Q\\in {\\rm{O}}(n)$, we have $\\|QX\\|_{\\rm{F}} = \\|X\\|_{\\rm{F}}$.\n\n(j) For all $X\\in\\mathbb{R}^{n\\times n}$, $Q\\in {\\rm{O}}(n)$, we have $\\|QX\\|_{2} = \\|X\\|_{2}$.",
      "metadata": {}
    },
    {
      "cell_type": "code",
      "source": "",
      "metadata": {},
      "execution_count": null,
      "outputs": []
    }
  ]
}