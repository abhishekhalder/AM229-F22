{
  "metadata": {
    "language_info": {
      "codemirror_mode": {
        "name": "python",
        "version": 3
      },
      "file_extension": ".py",
      "mimetype": "text/x-python",
      "name": "python",
      "nbconvert_exporter": "python",
      "pygments_lexer": "ipython3",
      "version": "3.8"
    },
    "kernelspec": {
      "name": "python",
      "display_name": "Python (Pyodide)",
      "language": "python"
    }
  },
  "nbformat_minor": 4,
  "nbformat": 4,
  "cells": [
    {
      "cell_type": "markdown",
      "source": "# Problem 1. [50 points] Positive Semi-definite Matrices",
      "metadata": {}
    },
    {
      "cell_type": "markdown",
      "source": "## (a) [10 + 10 = 20 points] Matricial Outer Product\n\n(i) Consider an arbitrary $Y\\in\\mathbb{R}^{m\\times n}\\setminus\\{0\\}$. **Prove that** $YY^{\\top}\\in\\mathbb{S}^{m}_{+}$.\n\n(ii) Consider an arbitrary $X\\in\\mathbb{S}^{m}_{+}$. **Prove that** we can always decompose $X$ as $X=YY^{\\top}$ for some $Y\\in\\mathbb{R}^{m\\times m}$. \n\n## Solution for Prob. 1(a)\n\n(i) For any $v\\in\\mathbb{R}^{m}\\setminus\\{0\\}$, let $u:=Y^{\\top}v$. We have $v^{\\top}YY^{\\top}v = \\|u\\|_{2}^{2}\\geq 0\\:\\Leftrightarrow\\:YY^{\\top}\\in\\mathbb{S}^{m}_{+}$.\n\n(ii) Since $X$ is symmetric, it admits spectral decomposition: $X = V \\Lambda V^{\\top}$ where $\\Lambda$ is the diagonal matrix with real eigenvalues of $X$ along its diagonal, and $V$ is orthogonal matrix with its columns comprising of the eigenvectors of $X$. Since $X\\in\\mathbb{S}^{m}_{+}$, the diagonal entries of $\\Lambda$ must be nonnegative, and therefore,\n$$X = V \\Lambda^{\\frac{1}{2}} \\Lambda^{\\frac{1}{2}} V^{\\top} = YY^{\\top}, \\quad Y:=V \\Lambda^{\\frac{1}{2}}.$$",
      "metadata": {}
    },
    {
      "cell_type": "markdown",
      "source": "## (b) [(10 + 5) + 5 + 10 = 30 points] Set of $3\\times 3$ Correlation Matrices\n\n(i) In statistics, any $3\\times 3$ correlation matrix is of the form $\\begin{pmatrix}\n1 & x & y\\\\\nx & 1 & z\\\\\ny & z & 1\n\\end{pmatrix}$ where the scalars $x,y,z$ are such that the matrix is positive semi-definite. So we can visualize the set of all $3\\times 3$ correlation matrices as\n$$\\mathcal{X}:=\\bigg\\{(x,y,z)\\in\\mathbb{R}^{3}\\mid \\begin{pmatrix}\n1 & x & y\\\\\nx & 1 & z\\\\\ny & z & 1\n\\end{pmatrix} \\in \\mathbb{S}^{3}_{+}\\bigg\\} \\subset \\mathbb{R}^{3}.$$\nUse your favorite plotting tool (MATLAB/Python/Julia) to **make a 3D plot of $\\mathcal{X}$** in the domain $[-1,1]^{3}$. **Briefly explain** the math behind your code.\n\n(ii) **Mathematically argue why** $\\mathcal{X}\\subseteq [-1,1]^{3}$. \"Mathematically\" means argue with some inequalities etc. Don't just say \"Duh! Look at my plot.\" :-)\n\n(iii) **Prove that** $\\mathcal{X} = \\{(\\cos\\alpha,\\cos\\beta,\\cos\\gamma)\\in\\mathbb{R}^{3}\\mid (\\alpha,\\beta,\\gamma)\\:\\text{are the pairwise angles between three unit vectors in } \\mathbb{R}^{3}\\}$.\n\n(Hint: Use what you proved in part (a)(ii).)\n\n## Solution for Prob. 1(b)\n\n(i) Applying the principal minor characterization for positive semi-definiteness from Lec. 3, p. 2-5, we get the following seven inequalities:\n$$1-x^2-y^2-z^2 + 2xyz \\geq 0,\\quad 1-x^{2}\\geq 0,\\quad 1-y^{2}\\geq 0,\\quad 1-z^{2}\\geq 0, \\quad 1 \\geq 0 \\; \\text{(threefold)}.$$\nWe rewrite the cubic inequality as a quadratic inequality in $z$ as function of $(x,y)$, given by $z(x,y):=z^2 - 2xyz + (x^2 + y^2 -1)\\leq 0$. Then we plot the boundary of the set $\\mathcal{X}$ by plotting $z(x,y)=0$, i.e., $z_{\\pm} = -xy \\pm \\sqrt{x^2y^2 - x^2 - y^2 + 1}$, as shown below.\n\n<img src=\"CorrelationMatrix.png\" alt=\"\" width=\"200\"/>\n\n(ii) $\\mathcal{X}\\subseteq [-1,1]^{3}$ because three out of the seven inequalities defining $\\mathcal{X}$ are $1−x^2\\geq 0$,$1−y^2\\geq 0$, $1−z^2 \\geq 0$, or equivalently, $−1\\leq x,y,z \\leq 1$.\n\n(iii) Using Prob. 1(a)(ii), write $YY^{\\top} = \\begin{pmatrix}\n1 & x & y\\\\\nx & 1 & z\\\\\ny & z & 1\n\\end{pmatrix}$. Denoting the columns of $Y^{\\top}$ as $v_1,v_2,v_3\\in\\mathbb{R}^{3}$, we have\n$$\\begin{pmatrix}\n\\langle v_1, v_1\\rangle & \\langle v_1, v_2\\rangle & \\langle v_1, v_3\\rangle\\\\\n\\langle v_2, v_1\\rangle & \\langle v_2, v_2\\rangle & \\langle v_2, v_3\\rangle\\\\\n\\langle v_3, v_1\\rangle & \\langle v_3, v_2\\rangle & \\langle v_3, v_3\\rangle\\\\\n\\end{pmatrix} = \\begin{pmatrix}\n1 & x & y\\\\\nx & 1 & z\\\\\ny & z & 1\n\\end{pmatrix}.$$\nEquating the LHS and RHS, we conclude that $v_1,v_2,v_3$ are unit vectors, and the statement follows from the definition of inner product, i.e., $\\langle v_i,v_j\\rangle := \\|v_i\\|_2 \\|v_j\\|_2 \\cos\\angle(v_i,v_j)$.",
      "metadata": {}
    },
    {
      "cell_type": "markdown",
      "source": "# Problem 2. [5 x 10 = 50 points] True/False: Norms\n\nFor each of the following, **state True/False**. If your answer is \"True\", then give a **short proof**. If your answer is \"False\", then give a **simple counter-example**.\n\n(a) For all $x\\in\\mathbb{R}^{n}$, $Q\\in {\\rm{O}}(n)$, we have $\\|Qx\\|_{2} = \\|x\\|_{2}$.\n\n(b) For all $x\\in\\mathbb{R}^{n}$, we have $\\|x\\|_{1} \\geq \\|x\\|_{\\infty}$.\n\n(c) For all $x\\in\\mathbb{R}^{n}$, we have $\\|x\\|_2 = \\sqrt{{\\rm{tr}}(xx^{\\top})}$.\n\n(d) Let $0<p,q\\leq \\infty$ such that $p\\neq q$. The identity $\\|x\\|_p = \\|x\\|_{q}$ holds for finitely many vectors $x\\in\\mathbb{R}^{n}$.\n\n(e) Let $1\\leq p < q\\leq \\infty$. The identity $\\|x\\|_p = n^{\\frac{1}{p}-\\frac{1}{q}}\\|x\\|_{q}$ holds for finitely many vectors $x\\in\\mathbb{R}^{n}$.\n\n(f) Let $\\sigma$ denote the vector comprising of the singular values of $X\\in\\mathbb{R}^{m\\times n}$. Then $\\|\\sigma\\|_{\\infty} = \\|X\\|_{2}$.\n\n(g) Let $\\sigma$ denote the vector comprising of the singular values of $X\\in\\mathbb{R}^{m\\times n}$. Then $\\|\\sigma\\|_{0} = {\\rm{rank}}(X)$.\n\n(h) For all $X\\in\\mathbb{R}^{m\\times n}$, we have $\\|X\\|_{1} \\geq \\|X\\|_{\\infty}$.\n\n(i) For all $X\\in\\mathbb{R}^{n\\times n}$, $Q\\in {\\rm{O}}(n)$, we have $\\|QX\\|_{\\rm{F}} = \\|X\\|_{\\rm{F}}$.\n\n(j) For all $X\\in\\mathbb{R}^{n\\times n}$, $Q\\in {\\rm{O}}(n)$, we have $\\|QX\\|_{2} = \\|X\\|_{2}$.\n\n## Solution for Prob. 2\n\n(a) **True** because $Q^{\\top}Q=I$ and $\\|Qx\\|_{2} := \\sqrt{x^{\\top}Q^{\\top}Qx} = \\|x\\|_{2}$ for all $x\\in\\mathbb{R}^{n}$.\n\n(b) **True** because $\\|x\\|_{1} := \\sum_{i=1}^{n}|x_i| \\geq \\underset{i=1,...,n}{\\max} |x_i| =: \\|x\\|_{\\infty}$ for all $x\\in\\mathbb{R}^{n}$.\n\n(c) **True** because $\\|x\\|_2 := \\sqrt{x^{\\top}x} = \\sqrt{{\\rm{tr}}(x^{\\top}x)} = \\sqrt{{\\rm{tr}}(xx^{\\top})}$ for all $x\\in\\mathbb{R}^{n}$.\n\n(d) **False**. If the equality holds for any $x\\in\\mathbb{R}^{n}$ then it also holds for $\\alpha x$ for arbitrary $\\alpha\\in\\mathbb{R}$. The equality indeed holds for all standard basis vectors $e_{k} \\in \\mathbb{R}^{n}$ where $1 \\leq k \\leq n$. So it holds for uncountably many real vectors $\\alpha e_{k}\\in\\mathbb{R}^{n}$. \n\n(e) **False.** Same argument as 2(d) applies here. The equality indeed holds for all $v\\in\\{-1,1\\}^{n}$. So it holds for uncountably many real vectors $\\alpha v$ for arbitrary $\\alpha\\in\\mathbb{R}$, and $v\\in\\{-1,1\\}^{n}$.\n\n(f) **True** because $\\|\\sigma\\|_{\\infty} := \\sigma_{\\max} = \\sqrt{\\lambda_{\\max}(XX^{\\top})} =: \\|X\\|_2$.\n\n(g) **True** because $\\|\\sigma\\|_{0} := \\text{cardinality}(\\sigma) = {\\rm{rank}}(X)$.\n\n(h) **False**. Counter-example: consider $X = \\begin{pmatrix}\n1 & 2\\\\\n3 & 4\n\\end{pmatrix}$, we have $\\|X\\|_{1} = 6 < \\|X\\|_{\\infty} = 7$.\n\n(i) **True** because $Q^{\\top}Q=I$ and $\\|QX\\|_{\\rm{F}} := \\sqrt{{\\rm{tr}}\\left(X^{\\top}Q^{\\top}QX\\right)} = \\sqrt{{\\rm{tr}}\\left(X^{\\top}X\\right)} =: \\|X\\|_{\\rm{F}}$.\n\n(j) **True** because $Q^{\\top}Q=I$ and $\\|QX\\|_{2} := \\sqrt{\\lambda_{\\max}\\left(X^{\\top}Q^{\\top}QX\\right)} = \\sqrt{\\lambda_{\\max}\\left(X^{\\top}X\\right)} =: \\|X\\|_{2}$.",
      "metadata": {}
    }
  ]
}
