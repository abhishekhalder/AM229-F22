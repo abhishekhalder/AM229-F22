{
  "metadata": {
    "language_info": {
      "codemirror_mode": {
        "name": "python",
        "version": 3
      },
      "file_extension": ".py",
      "mimetype": "text/x-python",
      "name": "python",
      "nbconvert_exporter": "python",
      "pygments_lexer": "ipython3",
      "version": "3.8"
    },
    "kernelspec": {
      "name": "python",
      "display_name": "Python (Pyodide)",
      "language": "python"
    }
  },
  "nbformat_minor": 4,
  "nbformat": 4,
  "cells": [
    {
      "cell_type": "markdown",
      "source": "# Problem 1. [100 points] Ability of Sports Teams\n\nConsider $n$ teams competing each other in a sports (e.g., soccer, football or basketball) tournament. Some teams are stronger than others due to reasons such as players' skills, coaching and staff support, amount of practice etc. We want to model each of the $n$ team's ability $a_x \\in [0,1]\\;\\forall x = 1,...,n$. \n\n**The purpose of this problem is to learn the ability vector $a\\in[0,1]^{n}$ from historical game outcome data.** Once determined, we may use $a\\in[0,1]^{n}$ to predict the outcome of a future sports game.\n\n## (a) [50 points] Maximum Likelihood Estimate\n\nWhen teams $x$ and $y$ play each other, the probability that team $x$ wins is equal to $\\mathbb{P}\\left(a_x - a_y + v \\geq 0\\right)$ where the noise $v\\sim\\mathcal{N}\\left(0,\\sigma^{2}\\right)$, the normal distribution with mean zero and variance $\\sigma^2$. The noise random variable $v$ models things like players' injuries, weather during the game, players' mental stress etc.\n\nSuppose we are given historical game outcome data $\\left(x^{(i)},y^{(i)},z^{(i)}\\right)$ for $i=1,...,m$ games, meaning that game $i$ was played between teams $x^{(i)}$ and $y^{(i)}$, and the result was \n$$z^{(i)} = \\begin{cases}\n+1 & \\text{if team $x^{(i)}$ won},\\\\\n-1 & \\text{if team $y^{(i)}$ won}.\n\\end{cases}$$\nWe assume that there were no ties. We collect this historical data in a matrix $H\\in\\mathbb{R}^{m\\times n}$ whose each row denotes a game, and each column denotes a team, i.e.,\n$$H_{ij} = \\begin{cases}\n+z^{(i)} & \\text{if $j=x^{(i)}$},\\\\\n-z^{(i)} & \\text{if $j=y^{(i)}$},\\\\\n0 & \\text{otherwise}.\n\\end{cases}$$\nAssuming the outcomes of past games were statistically independent, formulate computing the maximum likelihood estimate of the ability vector $a^{*}_{\\text{MLE}}$ as an optimization problem where matrix $H$ appears as a known parameter. **Explain all mathematical derivation, including why the derived problem is convex**.\n\n**Hints:** You need to derive an optimization problem over the decision variable $a\\in[0,1]^{n}$. If $v\\sim\\mathcal{N}\\left(0,\\sigma^{2}\\right)$ then $\\frac{v}{\\sigma} \\sim\\mathcal{N}(0,1)$, the standard normal distribution. The cumulative distribution function for standard normal distribution is discussed in Lec. 10, p. 14.\n\n## (b) [50 points] Numerical Solution\n\nFix $\\sigma = 0.25$, and $n=10$ teams playing $m=45$ matches in a tournament where each team plays another team once. For row index $i=1,...,m$, the tuple $\\left(x^{(i)},y^{(i)},z^{(i)}\\right)$ are given by the following array of 45 rows and 3 columns:\n$$\\texttt{[1 2 1;\n1 3 1;\n1 4 1;\n1 5 1;\n1 6 1;\n1 7 1;\n1 8 1;\n1 9 1;\n1 10 1;\n2 3 -1;\n2 4 -1;\n2 5 -1;\n2 6 -1;\n2 7 -1;\n2 8 -1;\n2 9 -1;\n2 10 -1;\n3 4 1;\n3 5 -1;\n3 6 -1;\n3 7 1;\n3 8 1;\n3 9 1;\n3 10 1;\n4 5 -1;\n4 6 -1;\n4 7 1;\n4 8 1;\n4 9 -1;\n4 10 -1;\n5 6 1;\n5 7 1;\n5 8 1;\n5 9 -1;\n5 10 1;\n6 7 1;\n6 8 1;\n6 9 -1;\n6 10 -1;\n7 8 1;\n7 9 1;\n7 10 -1;\n8 9 -1;\n8 10 -1;\n9 10 1]}$$\nUse the above data to write a code to first construct the matrix $H\\in\\mathbb{R}^{m\\times n}$, and then compute $a^{*}_{\\text{MLE}}$ in the same code via cvx/cvxpy/Convex.jl. **Please submit your numerically computed $a^{*}_{\\text{MLE}}$ as well as the code.**",
      "metadata": {}
    }
  ]
}