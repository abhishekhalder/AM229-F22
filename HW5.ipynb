{
  "metadata": {
    "language_info": {
      "name": ""
    },
    "kernelspec": {
      "name": "",
      "display_name": ""
    }
  },
  "nbformat_minor": 4,
  "nbformat": 4,
  "cells": [
    {
      "cell_type": "markdown",
      "source": "# Problem 1. [(1+9) x 5 = 50 points] Optimization Problems: Convex vs Nonconvex\n\nFor each of the following, **state** if the problem is nonconvex or convex. If your answer is nonconvex, then **explain why**. If your answer is convex, then **explain what type of convex optimization problem it is** among the following: LP, QP, QCQP, SOCP, SDP.\n\n(a) $\\underset{x\\in\\Delta^{n-1}}{\\min} \\langle c, x\\rangle$ where $c\\in\\mathbb{R}^{n}$.\n\n(b) $\\underset{x\\in\\mathbb{R}^{n}}{\\min} \\langle c, x\\rangle$ subject to $Ax \\leq b$ where $A\\in\\mathbb{R}^{n\\times n}$ nonsingular, and $b,c\\in\\mathbb{R}^{n}$.\n\n(c) $\\underset{M\\in\\mathbb{R}^{n\\times n}}{\\min}\\;\\langle C, M\\rangle$ subject to $M\\geq 0$ (elementwise), $M\\boldsymbol{1}=a$, $M^{\\top}\\boldsymbol{1}=b$ where $a,b\\in\\mathbb{R}^{n}_{+}$, $C\\in\\mathbb{R}^{n\\times n}$, and $\\boldsymbol{1}\\in\\mathbb{R}^{n}$ denotes a vector of ones.\n\n(d) $\\underset{x\\in\\mathbb{R}^{n}}{\\min}\\;x^{\\top}P x$ subject to $x^{\\top}Q x \\leq 1$ where $P\\in\\mathbb{S}^{n}$, $Q\\in\\mathbb{S}^{n}_{++}$.\n\n(e) $\\underset{(x,y,z)\\in\\mathbb{R}^{n}\\times\\mathbb{R}_{+}\\times\\mathbb{R}_{+}}{\\min} \\bigg\\{\\langle c, x\\rangle + \\alpha y + \\beta z\\bigg\\}$ subject to $x^{\\top}x\\leq yz$ where $c\\in\\mathbb{R}^{n}$, $\\alpha,\\beta\\in\\mathbb{R}$.\n",
      "metadata": {}
    },
    {
      "cell_type": "markdown",
      "source": "# Problem 2. [15 + 15 + 20 = 50 points] Analytical Solutions\n\n(i) Consider the Prob. 1(a) above. Use basic logical reasoning and linear algebra (and no knowledge of this course) to **analytically compute the minimum value**.\n\n(ii) Consider Prob. 1(b) above. Use basic logical reasoning and linear algebra (and no knowledge of this course) to **analytically compute the minimum value**.\n\n(iii) Consider the Prob. 1(d) above. Use basic logical reasoning and linear algebra (and no knowledge of this course) to **analytically compute the minimum value**.",
      "metadata": {}
    }
  ]
}
